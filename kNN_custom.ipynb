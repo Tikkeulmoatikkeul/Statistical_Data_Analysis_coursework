{
 "cells": [
  {
   "cell_type": "code",
   "execution_count": null,
   "id": "2c621ff1",
   "metadata": {},
   "outputs": [],
   "source": [
    "import numpy as np\n",
    "from collections import Counter"
   ]
  },
  {
   "cell_type": "code",
   "execution_count": null,
   "id": "fd7fc026",
   "metadata": {},
   "outputs": [],
   "source": [
    "class kNN():\n",
    "    def __init__(self, k=5, p=2):\n",
    "        '''\n",
    "        파라미터 초기화, 자동 호출\n",
    "        '''\n",
    "        self.k = k\n",
    "        self.p = p\n",
    "        print(\"kNN initialized.. k={}, p={}\".format(k,p))\n",
    "    \n",
    "\n",
    "    def fit(self, X, y):\n",
    "        '''\n",
    "        데이터를 외우는 단계\n",
    "        '''\n",
    "        self.X_train = np.array(X)\n",
    "        self.y_train = np.array(y)\n",
    "        return self\n",
    "\n",
    "\n",
    "    def predict(self, X):\n",
    "        '''\n",
    "        거리 계산 후 가장 가까운 라벨 찾기\n",
    "        '''\n",
    "        X = np.array(X)\n",
    "        n = X.shape[0]\n",
    "        y_pred = np.zeros(n, dtype=int)\n",
    "\n",
    "        for i in range(n):\n",
    "            x = X[i]\n",
    "            distances = np.linalg.norm(self.X_train - x, ord=self.p, axis=1)\n",
    "            topK = np.argsort(distances)[:self.k]\n",
    "            votes = self.y_train[topK]\n",
    "            result = Counter(votes).most_common(1)\n",
    "            y_pred[i] = result[0][0]\n",
    "        return y_pred\n",
    "\n",
    "    \n",
    "    def score(self, X, y):\n",
    "        y_pred = self.predict(X)\n",
    "        return np.mean(y_pred == y)"
   ]
  },
  {
   "cell_type": "code",
   "execution_count": null,
   "id": "28e59dca",
   "metadata": {},
   "outputs": [],
   "source": [
    "# 모델 생성\n",
    "model = kNN(k=3, p=2)"
   ]
  },
  {
   "cell_type": "code",
   "execution_count": null,
   "id": "7a76eaf0",
   "metadata": {},
   "outputs": [],
   "source": [
    "# 데이터 로드\n",
    "model.fit(X_train, y_train)"
   ]
  },
  {
   "cell_type": "code",
   "execution_count": null,
   "id": "de4a26dd",
   "metadata": {},
   "outputs": [],
   "source": [
    "# 예측: y_pred 반환\n",
    "model.predict(X_test)"
   ]
  },
  {
   "cell_type": "code",
   "execution_count": null,
   "id": "e32090fd",
   "metadata": {},
   "outputs": [],
   "source": [
    "# 정확도\n",
    "model.score(X_test, y_test)"
   ]
  }
 ],
 "metadata": {
  "language_info": {
   "name": "python"
  }
 },
 "nbformat": 4,
 "nbformat_minor": 5
}
