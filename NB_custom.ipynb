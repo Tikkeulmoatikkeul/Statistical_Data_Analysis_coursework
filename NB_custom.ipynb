{
 "cells": [
  {
   "cell_type": "code",
   "execution_count": null,
   "id": "46258da7",
   "metadata": {},
   "outputs": [],
   "source": [
    "import numpy as np"
   ]
  },
  {
   "cell_type": "code",
   "execution_count": null,
   "id": "1a0cb5d9",
   "metadata": {},
   "outputs": [],
   "source": [
    "class MNB():\n",
    "    def __init__(self, alpha=1.0, beta=1.0, delta=1e-15):\n",
    "        '''\n",
    "        파라미터 초기화, 자동 호출\n",
    "        '''\n",
    "        self.alpha = alpha\n",
    "        self.beta = beta\n",
    "        self.delta = delta\n",
    "        print(\"Multinomial Naive Bayes initialized.. alpha={}, beta={}, delta={}\".format(alpha,beta,delta))\n",
    "    \n",
    "\n",
    "    def fit(self, X, y):\n",
    "        '''\n",
    "        데이터를 외우는 단계, count 하는 단계\n",
    "        '''\n",
    "        self.X_train = np.array(X)\n",
    "        self.y_train = np.array(y)\n",
    "        self.classes = np.unique(y)\n",
    "\n",
    "        n_classes = len(self.classes)\n",
    "        n_features = X.shape[1]\n",
    "\n",
    "        self.class_count = np.zeros(n_classes)\n",
    "        self.feature_count = np.zeros((n_classes, n_features))\n",
    "\n",
    "\n"
   ]
  }
 ],
 "metadata": {
  "language_info": {
   "name": "python"
  }
 },
 "nbformat": 4,
 "nbformat_minor": 5
}
